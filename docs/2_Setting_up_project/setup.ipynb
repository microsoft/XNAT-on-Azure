{
 "cells": [
  {
   "cell_type": "code",
   "execution_count": null,
   "id": "e722ff03",
   "metadata": {},
   "outputs": [],
   "source": [
    "import pyxnat\n",
    "import os\n",
    "import jsonlines\n",
    "import json\n",
    "import time\n",
    "import pydicom\n",
    "from typing import Dict, List"
   ]
  },
  {
   "cell_type": "markdown",
   "id": "3519c27c",
   "metadata": {},
   "source": [
    "# Setup Directories\n",
    "`data_dir` is where all the DICOM files are stores\n",
    "\n",
    "`labels.jsonl` is a jsonlines file that contains labels for the corresponding DICOM file paths"
   ]
  },
  {
   "cell_type": "code",
   "execution_count": null,
   "id": "ceb976f5",
   "metadata": {},
   "outputs": [],
   "source": [
    "data_dir = '/images/blob/padchest/converted_2021-07-26/dicoms-fhir'\n",
    "labels_file = '/images/blob/padchest/converted_2021-07-26/dicoms-fhir/labels.jsonl'"
   ]
  },
  {
   "cell_type": "markdown",
   "id": "8946c0ab",
   "metadata": {},
   "source": [
    "# Setup XNAT client"
   ]
  },
  {
   "cell_type": "code",
   "execution_count": null,
   "id": "3e361efd",
   "metadata": {},
   "outputs": [],
   "source": [
    "xnat_server = 'http://10.2.0.9'\n",
    "user = 'admin'\n",
    "password = 'admin'\n",
    "project = 'padchest2'\n",
    "xnat_interface = pyxnat.Interface(server=xnat_server, user=user, password=password)"
   ]
  },
  {
   "cell_type": "markdown",
   "id": "1cba7f8c",
   "metadata": {},
   "source": [
    "# Create an index for dicom files and corresponding labels\n",
    "We'll build a following index from the JSONfile:\n",
    "```\n",
    " '2.25.111560737383907677338472218743134259277.dcm': ['Opacity'],\n",
    " '2.25.106606579614019590132459583155518343843.dcm': ['Atelectasis',\n",
    "  'Pleural_Effusion',\n",
    "  'Pleural_Abnormalities'],\n",
    " '2.25.288856916057862677977653594428399214627.dcm': ['Atelectasis',\n",
    "  'Pleural_Effusion',\n",
    "  'Pleural_Abnormalities'],\n",
    " '2.25.212461397906913979117946429815718832885.dcm': ['No_Finding'],\n",
    " '2.25.21295911399383494291943739496412220897.dcm': ['Pleural_Effusion',\n",
    "  'Pleural_Abnormalities',\n",
    "  'Opacity'],\n",
    "```\n",
    "where the key is the dicom file and value is the list of lables"
   ]
  },
  {
   "cell_type": "code",
   "execution_count": null,
   "id": "d512ba64",
   "metadata": {},
   "outputs": [],
   "source": [
    "def build_index() -> Dict[str, List]:\n",
    "    prefix = 'AmlDatastore://padchest/converted_2021-07-26/dicoms/'\n",
    "    label_dict = {}\n",
    "    with jsonlines.open(labels_file) as reader:\n",
    "        for obj in reader:\n",
    "            image_url = obj['image_url']\n",
    "            labels = obj['label']\n",
    "            image_id = image_url.split('/')[-2]\n",
    "            label_dict[image_id] = labels\n",
    "    return label_dict\n",
    "index = build_index()\n"
   ]
  },
  {
   "cell_type": "markdown",
   "id": "f481708a",
   "metadata": {},
   "source": [
    "# Iterate over all scans and write label.json file\n",
    "\n",
    "We walk over all the scans in the XNAT project. For each scan we create a new scan resources. We call this resources `LABEL` and create a file `label.json` with the corresponding annotation. \n"
   ]
  },
  {
   "cell_type": "code",
   "execution_count": null,
   "id": "8b2e68af",
   "metadata": {},
   "outputs": [],
   "source": [
    "project = xnat_interface.select.project(project)\n",
    "subjects = project.subjects()\n",
    "for subject in subjects:\n",
    "    for experiment in subject.experiments():\n",
    "        for scan in experiment.scans():\n",
    "            id_ = scan.id().replace('_', '.')\n",
    "            print(f'creating label for {id_}')\n",
    "            label = index[id_]\n",
    "            label_file = '/tmp/label.json'\n",
    "            with open('/tmp/label.json', 'w') as f:\n",
    "                json.dump(label, f)\n",
    "            try:\n",
    "                resource = scan.resource('LABEL')\n",
    "                resource.create()\n",
    "                f = resource.file('label.json')\n",
    "                response = f.put(src=label_file, format='JSON', content='JSON', extract=False, overwrite=True)\n",
    "            except Exception:\n",
    "                print('Failed')\n",
    "            else:\n",
    "                print('Succeded')"
   ]
  },
  {
   "cell_type": "markdown",
   "id": "91725a7e",
   "metadata": {},
   "source": [
    "# Additional helper methods"
   ]
  },
  {
   "cell_type": "code",
   "execution_count": null,
   "id": "308ea71b",
   "metadata": {},
   "outputs": [],
   "source": [
    "def read_dicom(file_path: str):\n",
    "    with open(file_path, 'rb') as f:\n",
    "        ds = pydicom.dcmread(file_path)\n",
    "        return ds"
   ]
  },
  {
   "cell_type": "code",
   "execution_count": null,
   "id": "3a437da0",
   "metadata": {},
   "outputs": [],
   "source": [
    "def create_subject(name, project) -> str:\n",
    "    uri = '/data/projects/%s/subjects/%s'%(project, name)\n",
    "    response = xnat_interface.put(uri)\n",
    "    subject_uid = response.content\n",
    "    return str(subject_uid.decode())\n",
    "    "
   ]
  },
  {
   "cell_type": "code",
   "execution_count": null,
   "id": "d5442003",
   "metadata": {},
   "outputs": [],
   "source": [
    "def create_experiment(subject, experiment_id):\n",
    "    print(subject_id)\n",
    "    experiment = subject.experiment(experiment_id)\n",
    "    options = {'xsiType': 'xnat:crSessionData'}\n",
    "    experiment.create(**options)\n",
    "    print('New experiment %s created' %experiment.id())\n",
    "    return experiment"
   ]
  },
  {
   "cell_type": "code",
   "execution_count": null,
   "id": "333ac438",
   "metadata": {},
   "outputs": [],
   "source": [
    "def create_scan(experiment, scan_id):\n",
    "    options = {\n",
    "        'xsiType': 'xnat:crScanData',\n",
    "        'usability': 'usable'\n",
    "    }\n",
    "    scan = experiment.scan(scan_id)\n",
    "    scan.create(**options)\n",
    "    return scan"
   ]
  },
  {
   "cell_type": "code",
   "execution_count": null,
   "id": "b7dfed75",
   "metadata": {
    "scrolled": true
   },
   "outputs": [],
   "source": [
    "def clear_project():\n",
    "    xnat_project = xnat_interface.select.project(project)\n",
    "    for subject in list(xnat_project.subjects()):\n",
    "        subject.delete()"
   ]
  },
  {
   "cell_type": "code",
   "execution_count": null,
   "id": "fd033603",
   "metadata": {
    "scrolled": true
   },
   "outputs": [],
   "source": [
    "count = 0\n",
    "experiments = {}\n",
    "\n",
    "label_index = build_index()\n",
    "for root, dirs, files in os.walk(data_dir):\n",
    "    if files and files[0].endswith('.dcm'):\n",
    "        dicom_file = files[0]\n",
    "        file_path = root + '/'+ dicom_file\n",
    "        if dicom_file not in label_index:\n",
    "            continue\n",
    "        count += 1\n",
    "        dicom = read_dicom(file_path)\n",
    "        subject_name = str(dicom['PatientName'].value).replace('^', '_')\n",
    "        subject_id = None\n",
    "        try:\n",
    "            print(f'creating {subject_name}')\n",
    "            subject_id = create_subject(subject_name, project)\n",
    "        except Exception as e:\n",
    "            print(f'Failed to create subject {e}')\n",
    "            continue\n",
    "        subject = xnat_interface.select.project(project).subject(subject_id)\n",
    "        experiment = None\n",
    "        try:\n",
    "            experiment = create_experiment(subject, f'exp{count}')\n",
    "            experiments[subject] = experiment\n",
    "        except Exception as e:\n",
    "            print(f'Failed to create experiment {e}')\n",
    "            continue\n",
    "\n",
    "        scan = create_scan(experiment, dicom_file.split(\".dcm\")[0].replace('.', '_'))\n",
    "        print(scan)\n",
    "        resource = scan.resource('DICOM')\n",
    "        resource.create()\n",
    "\n",
    "        f = resource.file(dicom_file)\n",
    "        response = f.put(src=file_path, format='DICOM', content='RAW', extract=False, overwrite=True)\n",
    "        file_uid = response\n",
    "        label = label_index[dicom_file]\n",
    "      \n",
    "        label_file = '/tmp/label.json'\n",
    "        with open('/tmp/label.json', 'w') as f:\n",
    "            json.dump(label, f)\n",
    "        \n",
    "        resource = scan.resource('LABEL')\n",
    "        resource.create()\n",
    "        f = resource.file('label.json')\n",
    "        response = f.put(src=label_file, format='JSON', content='JSON', extract=False, overwrite=True)\n",
    "         \n",
    "    if count == 10:\n",
    "        break"
   ]
  }
 ],
 "metadata": {
  "kernelspec": {
   "display_name": "venv",
   "language": "python",
   "name": "venv"
  },
  "language_info": {
   "codemirror_mode": {
    "name": "ipython",
    "version": 3
   },
   "file_extension": ".py",
   "mimetype": "text/x-python",
   "name": "python",
   "nbconvert_exporter": "python",
   "pygments_lexer": "ipython3",
   "version": "3.8.10"
  }
 },
 "nbformat": 4,
 "nbformat_minor": 5
}
